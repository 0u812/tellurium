{
 "cells": [
  {
   "cell_type": "code",
   "execution_count": 2,
   "metadata": {
    "scrolled": false
   },
   "outputs": [
    {
     "name": "stdout",
     "output_type": "stream",
     "text": [
      "\"\"\"\n",
      "####################################################################################################\n",
      "                            tellurium 2.0.2\n",
      "-+++++++++++++++++-         Python Environment for Modeling and Simulating Biological Systems\n",
      " .+++++++++++++++.\n",
      "  .+++++++++++++.           Homepage:      http://tellurium.analogmachine.org/\n",
      "-//++++++++++++/.   -:/-`   Documentation: https://tellurium.readthedocs.io/en/latest/index.html\n",
      ".----:+++++++/.++  .++++/   Forum:         https://groups.google.com/forum/#!forum/tellurium-discuss\n",
      "      :+++++:  .+:` .--++   Bug reports:   https://github.com/sys-bio/tellurium/issues\n",
      "       -+++-    ./+:-://.   Repository:    https://github.com/sys-bio/tellurium\n",
      "        .+.       `...`\n",
      "\n",
      "SED-ML simulation experiments: http://www.sed-ml.org/\n",
      "    sedmlDoc: L1V3  \n",
      "    inputType:      'SEDML_FILE'\n",
      "    workingDir:     '/tmp/tmp36g6v59y'\n",
      "    saveOutputs:    'True'\n",
      "    outputDir:      './__tellurium__'\n",
      "    plottingEngine: '<MatplotlibEngine>'\n",
      "\n",
      "Linux-4.10.0-35-generic-x86_64-with-Ubuntu-16.04-xenial\n",
      "python 3.6.2 (default, Jul 20 2017, 08:43:29) \n",
      "[GCC 5.4.1 20170519]\n",
      "####################################################################################################\n",
      "\"\"\"\n",
      "import tellurium as te\n",
      "from roadrunner import Config\n",
      "from tellurium.sedml.mathml import *\n",
      "from tellurium.sedml.tesedml import process_trace, terminate_trace, fix_endpoints\n",
      "\n",
      "import numpy as np\n",
      "import matplotlib.pyplot as plt\n",
      "import mpl_toolkits.mplot3d\n",
      "try:\n",
      "    import tesedml as libsedml\n",
      "except ImportError:\n",
      "    import libsedml\n",
      "import pandas\n",
      "import os.path\n",
      "Config.LOADSBMLOPTIONS_RECOMPILE = True\n",
      "\n",
      "workingDir = r'/tmp/tmp36g6v59y'\n",
      "\n",
      "\n",
      "\n",
      "\n",
      "\n",
      "\n",
      "\n",
      "\n",
      "\n",
      "\n",
      "####################################################################################################\n"
     ]
    },
    {
     "name": "stderr",
     "output_type": "stream",
     "text": [
      "/home/mkoenig/git/tellurium/tellurium/sedml/tesedml.py:1740: UserWarning:\n",
      "\n",
      "line 40: (01006 [Error]) XML content is not well-formed.\n",
      "\n",
      "\n",
      "\n"
     ]
    }
   ],
   "source": [
    "import os\n",
    "import importlib\n",
    "import tellurium\n",
    "importlib.reload(tellurium)\n",
    "tellurium.setDefaultPlottingEngine(\"matplotlib\")\n",
    "# tellurium.setDefaultPlottingEngine(\"plotly\")\n",
    "\n",
    "outputDir = \"./__tellurium__\"\n",
    "if not os.path.exists(outputDir):\n",
    "    os.makedirs(outputDir)\n",
    "# dgs = tellurium.executeCombineArchive(\"L1V3_vanderpol-sbml.omex\", printPython=True, \n",
    "#                                      outputDir=outputDir, saveOutputs=True)\n",
    "dgs = tellurium.executeCombineArchive(\"L1V3_lorenz-sbml.omex\", printPython=True, \n",
    "                                      outputDir=outputDir, saveOutputs=True)"
   ]
  },
  {
   "cell_type": "code",
   "execution_count": null,
   "metadata": {
    "collapsed": true
   },
   "outputs": [],
   "source": []
  }
 ],
 "metadata": {
  "kernelspec": {
   "display_name": "tellurium",
   "language": "python",
   "name": "tellurium"
  },
  "language_info": {
   "codemirror_mode": {
    "name": "ipython",
    "version": 3
   },
   "file_extension": ".py",
   "mimetype": "text/x-python",
   "name": "python",
   "nbconvert_exporter": "python",
   "pygments_lexer": "ipython3",
   "version": "3.6.2"
  }
 },
 "nbformat": 4,
 "nbformat_minor": 2
}
