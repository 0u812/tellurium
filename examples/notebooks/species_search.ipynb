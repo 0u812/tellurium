{
 "cells": [
  {
   "cell_type": "markdown",
   "metadata": {},
   "source": [
    "Back to the main [Index](index.ipynb)"
   ]
  },
  {
   "cell_type": "markdown",
   "metadata": {},
   "source": [
    "# Interactive Webservice Search\n",
    "Serch biomodels via given species."
   ]
  },
  {
   "cell_type": "code",
   "execution_count": 1,
   "metadata": {
    "collapsed": false
   },
   "outputs": [],
   "source": [
    "from __future__ import print_function, division\n",
    "%matplotlib inline\n",
    "%load_ext autoreload\n",
    "%autoreload 2"
   ]
  },
  {
   "cell_type": "markdown",
   "metadata": {},
   "source": [
    "## Search Biomodels via Chebi information\n",
    "Type search string and click **Search**.\n",
    "\n",
    "**Example searches**\n",
    "* CHEBI:17925\n",
    "* D-glucose"
   ]
  },
  {
   "cell_type": "code",
   "execution_count": 2,
   "metadata": {
    "collapsed": false
   },
   "outputs": [],
   "source": [
    "import tellurium as te\n",
    "from tellurium.widgets import SearchBySpeciesForm\n",
    "form = SearchBySpeciesForm()"
   ]
  },
  {
   "cell_type": "markdown",
   "metadata": {},
   "source": [
    "## Use SBML result in tellurium"
   ]
  },
  {
   "cell_type": "code",
   "execution_count": 3,
   "metadata": {
    "collapsed": false
   },
   "outputs": [
    {
     "name": "stdout",
     "output_type": "stream",
     "text": [
      "// Created by libAntimony v2.8.1\n",
      "model *voit03()\n",
      "\n",
      "  // Compartments and Species:\n",
      "  compartment cell, external;\n",
      "  species $X0 in external, $X1 in cell, $X2 in cell, $X3 in cell, $X4 in cell;\n",
      "  species $X5 in cell, $X6 in cell, $X7 in cell;\n",
      "\n",
      "  // Assignment Rules:\n",
      "  flux_X1_in := 31.912*X0^0.968*X2^-0.194*X7^0.00968*X8^0.968*X19^0.0323;\n",
      "  flux_X1_out := 89.935*X1^0.75*X6^-0.4*X9;\n",
      "  flux_X2_in := 142.72*X1^0.517*X2^-0.179*X3^0.183*X6^-0.276*X9^0.689*X12r^0.311;\n",
      "  flux_X2_out := 30.12*X1^-0.00333*X2^0.575*X3^-0.17*X4^0.00333*X10^0.5111*X11^0.0667*X12f^0.411*X17^0.0111;\n",
      "  flux_X3_in := 7.8819*X2^0.394*X3^-0.392*X4^-0.01*X5^0.0128*X12f^0.949*X15r^0.0513;\n",
      "  flux_X3_out := 76.434*X2^-0.412*X3^0.593*X12r^0.718*X13^0.18*X15f^0.103;\n",
      "  flux_X4_in := 11.07*X3^0.5*X13;\n",
      "  flux_X4_out := 3.4556*X1^-0.0429*X2^0.214*X4^0.386*X14^0.857*X17^0.143;\n",
      "  flux_X5_in := 11.06*X2^0.04*X3^0.32*X4^0.16*X14^0.6*X15f^0.4;\n",
      "  flux_X5_out := 4.929*X2^-0.04*X4^-0.04*X5^0.25*X15r^0.2*X16^0.8;\n",
      "  flux_X6_in := 0.19424*X1^-0.3*X2^0.3*X4^0.3*X17;\n",
      "  flux_X6_out := 1.0939*X6^0.2*X18;\n",
      "  flux_X7_in := 1.0939*X6^0.2*X18;\n",
      "  flux_X7_out := 1.2288*X7^0.3*X19;\n",
      "  X8 := piecewise(8, heat_shock == 1, 1);\n",
      "  X10 := piecewise(1, heat_shock == 1, 1);\n",
      "  X12r := piecewise(16, heat_shock == 1, 1);\n",
      "  X13 := piecewise(16, heat_shock == 1, 1);\n",
      "  X15r := piecewise(50, heat_shock == 1, 1);\n",
      "  X16 := piecewise(16, heat_shock == 1, 1);\n",
      "  X18 := piecewise(18, heat_shock == 1, 1);\n",
      "\n",
      "  // Rate Rules:\n",
      "  X1' = flux_X1_in - flux_X1_out;\n",
      "  X2' = flux_X2_in - flux_X2_out;\n",
      "  X3' = flux_X3_in - flux_X3_out;\n",
      "  X4' = flux_X4_in - flux_X4_out;\n",
      "  X5' = flux_X5_in - flux_X5_out;\n",
      "  X6' = flux_X6_in - flux_X6_out;\n",
      "  X7' = flux_X7_in - flux_X7_out;\n",
      "\n",
      "  // Species initializations:\n",
      "  X0 = 1;\n",
      "  X1 = 0.03;\n",
      "  X2 = 1;\n",
      "  X3 = 0.1;\n",
      "  X4 = 0.7;\n",
      "  X5 = 1;\n",
      "  X6 = 0.02;\n",
      "  X7 = 0.05;\n",
      "\n",
      "  // Compartment initializations:\n",
      "  cell = 1;\n",
      "  external = 1;\n",
      "  flux_X1_in has flux;\n",
      "  flux_X1_out has flux;\n",
      "  flux_X2_in has flux;\n",
      "  flux_X2_out has flux;\n",
      "  flux_X3_in has flux;\n",
      "  flux_X3_out has flux;\n",
      "  flux_X4_in has flux;\n",
      "  flux_X4_out has flux;\n",
      "  flux_X5_in has flux;\n",
      "  flux_X5_out has flux;\n",
      "  flux_X6_in has flux;\n",
      "  flux_X6_out has flux;\n",
      "  flux_X7_in has flux;\n",
      "  flux_X7_out has flux;\n",
      "\n",
      "  // Variable initializations:\n",
      "  heat_shock = 0;\n",
      "  heat_shock has dimensionless;\n",
      "  X8 has dimensionless;\n",
      "  X9 = ;\n",
      "  X9 has dimensionless;\n",
      "  X10 has dimensionless;\n",
      "  X11 = ;\n",
      "  X11 has dimensionless;\n",
      "  X12r has dimensionless;\n",
      "  X12f = ;\n",
      "  X12f has dimensionless;\n",
      "  X13 has dimensionless;\n",
      "  X14 = ;\n",
      "  X14 has dimensionless;\n",
      "  X15r has dimensionless;\n",
      "  X15f = ;\n",
      "  X15f has dimensionless;\n",
      "  X16 has dimensionless;\n",
      "  X17 = ;\n",
      "  X17 has dimensionless;\n",
      "  X18 has dimensionless;\n",
      "  X19 = ;\n",
      "  X19 has dimensionless;\n",
      "\n",
      "  // Other declarations:\n",
      "  var flux_X1_in, flux_X1_out, flux_X2_in, flux_X2_out, flux_X3_in, flux_X3_out;\n",
      "  var flux_X4_in, flux_X4_out, flux_X5_in, flux_X5_out, flux_X6_in, flux_X6_out;\n",
      "  var flux_X7_in, flux_X7_out, X8, X9, X10, X11, X12r, X12f, X13, X14, X15r;\n",
      "  var X15f, X16, X17, X18, X19;\n",
      "  const cell, external, heat_shock;\n",
      "\n",
      "  // Unit definitions:\n",
      "  unit substance = 1e-3 mole;\n",
      "  unit time_unit = 60 second;\n",
      "  unit flux = 1e-3 mole / (60 second * litre);\n",
      "  unit mM = 1e-3 mole / litre;\n",
      "\n",
      "  // Display Names:\n",
      "  substance is \"milimole\";\n",
      "  time_unit is \"minutes\";\n",
      "  flux is \"mM per minute\";\n",
      "  X0 is \"glucose\";\n",
      "  X1 is \"glucose\";\n",
      "  flux_X1_in is \"flux_to_glucose\";\n",
      "  flux_X1_out is \"flux_from_glucose\";\n",
      "  X2 is \"G6P\";\n",
      "  flux_X2_in is \"flux_to_G6P\";\n",
      "  flux_X2_out is \"flux_from_G6P\";\n",
      "  X3 is \"G1P\";\n",
      "  flux_X3_in is \"flux_to_G1P\";\n",
      "  flux_X3_out is \"flux_from_G1P\";\n",
      "  X4 is \"UDPG\";\n",
      "  flux_X4_in is \"flux_to_UDPG\";\n",
      "  flux_X4_out is \"flux_from_UDPG\";\n",
      "  X5 is \"glycogen\";\n",
      "  flux_X5_in is \"flux_to_glycogen\";\n",
      "  flux_X5_out is \"flux_from_glucogen\";\n",
      "  X6 is \"T6P\";\n",
      "  flux_X6_in is \"flux_to_T6P\";\n",
      "  flux_X6_out is \"flux_from_T6P\";\n",
      "  X7 is \"trehalose\";\n",
      "  flux_X7_in is \"flux_to_trehalose\";\n",
      "  flux_X7_out is \"flux_from_trehalose\";\n",
      "  X8 is \"glucose transport into cell\";\n",
      "  X9 is \"hexokinase/glucokinase\";\n",
      "  X10 is \"phosphofructokinase\";\n",
      "  X11 is \"G6P dehydrogenase\";\n",
      "  X12r is \"phoshpoglucomutase\";\n",
      "  X12f is \"phoshpoglucomutase\";\n",
      "  X13 is \"UDPG pyrophosphorylase\";\n",
      "  X14 is \"glycogen synthase\";\n",
      "  X15r is \"glycogen phosphorylase\";\n",
      "  X15f is \"glycogen phosphorylase\";\n",
      "  X16 is \"glycogen use\";\n",
      "  X17 is \"alpha,alpha-T6P synthase\";\n",
      "  X18 is \"alpha,alpha--T6P phosphatase\";\n",
      "  X19 is \"trehalase\";\n",
      "end\n",
      "\n"
     ]
    }
   ],
   "source": [
    "# Loading the model in telluroum\n",
    "sbml_str = form.getSBML()\n",
    "\n",
    "# import libsbml\n",
    "ant_str = te.sbmlToAntimony(sbml_str)\n",
    "print(ant_str)\n",
    "\n",
    "# te only loads valid models, which cannot be guaranteed for biomodels\n",
    "# otherwise loading via\n",
    "#     r = te.loadSBMLModel(str(sbml_str))\n",
    "# or\n",
    "#     r = te.loada(ant_str)"
   ]
  },
  {
   "cell_type": "code",
   "execution_count": null,
   "metadata": {
    "collapsed": true
   },
   "outputs": [],
   "source": []
  }
 ],
 "metadata": {
  "kernelspec": {
   "display_name": "Python 2",
   "language": "python",
   "name": "python2"
  },
  "language_info": {
   "codemirror_mode": {
    "name": "ipython",
    "version": 2
   },
   "file_extension": ".py",
   "mimetype": "text/x-python",
   "name": "python",
   "nbconvert_exporter": "python",
   "pygments_lexer": "ipython2",
   "version": "2.7.6"
  }
 },
 "nbformat": 4,
 "nbformat_minor": 0
}
