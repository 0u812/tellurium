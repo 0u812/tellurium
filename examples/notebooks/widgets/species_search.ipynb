{
 "cells": [
  {
   "cell_type": "markdown",
   "metadata": {},
   "source": [
    "Back to the main [Index](../index.ipynb)"
   ]
  },
  {
   "cell_type": "markdown",
   "metadata": {},
   "source": [
    "# Interactive Webservice Search\n",
    "Search biomodels via given species."
   ]
  },
  {
   "cell_type": "code",
   "execution_count": 1,
   "metadata": {},
   "outputs": [],
   "source": [
    "from __future__ import print_function, division\n",
    "%matplotlib inline\n",
    "%load_ext autoreload\n",
    "%autoreload 2"
   ]
  },
  {
   "cell_type": "markdown",
   "metadata": {},
   "source": [
    "## Search Biomodels via Chebi information\n",
    "Type search string and click **Search**.\n",
    "\n",
    "**Example searches**\n",
    "* CHEBI:17925\n",
    "* D-glucose"
   ]
  },
  {
   "cell_type": "code",
   "execution_count": 2,
   "metadata": {},
   "outputs": [],
   "source": [
    "import tellurium as te\n",
    "from tellurium.widgets import SearchBySpeciesForm\n",
    "form = SearchBySpeciesForm()"
   ]
  },
  {
   "cell_type": "markdown",
   "metadata": {},
   "source": [
    "## Use SBML result in tellurium"
   ]
  },
  {
   "cell_type": "code",
   "execution_count": 3,
   "metadata": {},
   "outputs": [
    {
     "ename": "Exception",
     "evalue": "Antimony: Unable to read SBML string due to errors encountered when parsing the file.  Error(s) from libSBML:\n\nline 2: (01006 [Error]) XML content is not well-formed.\n\nline 2: (20201 [Error]) An SBML document must contain a <model> element. The <model> element is optional in L3V2 and beyond.\nReference: L3V1 Section 4.1\n\n",
     "output_type": "error",
     "traceback": [
      "\u001b[1;31m---------------------------------------------------------------------------\u001b[0m",
      "\u001b[1;31mException\u001b[0m                                 Traceback (most recent call last)",
      "\u001b[1;32m<ipython-input-3-a71856badb4c>\u001b[0m in \u001b[0;36m<module>\u001b[1;34m()\u001b[0m\n\u001b[0;32m      3\u001b[0m \u001b[1;33m\u001b[0m\u001b[0m\n\u001b[0;32m      4\u001b[0m \u001b[1;31m# import libsbml\u001b[0m\u001b[1;33m\u001b[0m\u001b[1;33m\u001b[0m\u001b[0m\n\u001b[1;32m----> 5\u001b[1;33m \u001b[0mant_str\u001b[0m \u001b[1;33m=\u001b[0m \u001b[0mte\u001b[0m\u001b[1;33m.\u001b[0m\u001b[0msbmlToAntimony\u001b[0m\u001b[1;33m(\u001b[0m\u001b[0msbml_str\u001b[0m\u001b[1;33m)\u001b[0m\u001b[1;33m\u001b[0m\u001b[0m\n\u001b[0m\u001b[0;32m      6\u001b[0m \u001b[1;32mprint\u001b[0m\u001b[1;33m(\u001b[0m\u001b[0mant_str\u001b[0m\u001b[1;33m)\u001b[0m\u001b[1;33m\u001b[0m\u001b[0m\n\u001b[0;32m      7\u001b[0m \u001b[1;33m\u001b[0m\u001b[0m\n",
      "\u001b[1;32m/home/mkoenig/git/tellurium/tellurium/tellurium.pyc\u001b[0m in \u001b[0;36msbmlToAntimony\u001b[1;34m(str)\u001b[0m\n\u001b[0;32m    231\u001b[0m     \u001b[0merr\u001b[0m \u001b[1;33m=\u001b[0m \u001b[0mantimony\u001b[0m\u001b[1;33m.\u001b[0m\u001b[0mloadSBMLString\u001b[0m\u001b[1;33m(\u001b[0m\u001b[0mstr\u001b[0m\u001b[1;33m)\u001b[0m\u001b[1;33m\u001b[0m\u001b[0m\n\u001b[0;32m    232\u001b[0m     \u001b[1;32mif\u001b[0m \u001b[0merr\u001b[0m \u001b[1;33m<\u001b[0m \u001b[1;36m0\u001b[0m\u001b[1;33m:\u001b[0m\u001b[1;33m\u001b[0m\u001b[0m\n\u001b[1;32m--> 233\u001b[1;33m         \u001b[1;32mraise\u001b[0m \u001b[0mException\u001b[0m\u001b[1;33m(\u001b[0m\u001b[1;34m'Antimony: '\u001b[0m \u001b[1;33m+\u001b[0m \u001b[0mantimony\u001b[0m\u001b[1;33m.\u001b[0m\u001b[0mgetLastError\u001b[0m\u001b[1;33m(\u001b[0m\u001b[1;33m)\u001b[0m\u001b[1;33m)\u001b[0m\u001b[1;33m\u001b[0m\u001b[0m\n\u001b[0m\u001b[0;32m    234\u001b[0m \u001b[1;33m\u001b[0m\u001b[0m\n\u001b[0;32m    235\u001b[0m     \u001b[1;32mreturn\u001b[0m \u001b[0mantimony\u001b[0m\u001b[1;33m.\u001b[0m\u001b[0mgetAntimonyString\u001b[0m\u001b[1;33m(\u001b[0m\u001b[0mNone\u001b[0m\u001b[1;33m)\u001b[0m\u001b[1;33m\u001b[0m\u001b[0m\n",
      "\u001b[1;31mException\u001b[0m: Antimony: Unable to read SBML string due to errors encountered when parsing the file.  Error(s) from libSBML:\n\nline 2: (01006 [Error]) XML content is not well-formed.\n\nline 2: (20201 [Error]) An SBML document must contain a <model> element. The <model> element is optional in L3V2 and beyond.\nReference: L3V1 Section 4.1\n\n"
     ]
    }
   ],
   "source": [
    "# Loading the model in telluroum\n",
    "sbml_str = form.getSBML()\n",
    "\n",
    "# import libsbml\n",
    "ant_str = te.sbmlToAntimony(sbml_str)\n",
    "print(ant_str)\n",
    "\n",
    "# te only loads valid models, which cannot be guaranteed for biomodels\n",
    "# otherwise loading via\n",
    "#     r = te.loadSBMLModel(str(sbml_str))\n",
    "# or\n",
    "#     r = te.loada(ant_str)"
   ]
  },
  {
   "cell_type": "code",
   "execution_count": null,
   "metadata": {},
   "outputs": [],
   "source": [
    ""
   ]
  }
 ],
 "metadata": {
  "kernelspec": {
   "display_name": "Python 2",
   "language": "python",
   "name": "python2"
  },
  "language_info": {
   "codemirror_mode": {
    "name": "ipython",
    "version": 2.0
   },
   "file_extension": ".py",
   "mimetype": "text/x-python",
   "name": "python",
   "nbconvert_exporter": "python",
   "pygments_lexer": "ipython2",
   "version": "2.7.6"
  }
 },
 "nbformat": 4,
 "nbformat_minor": 0
}