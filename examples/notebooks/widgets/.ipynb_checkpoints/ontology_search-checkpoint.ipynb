{
 "cells": [
  {
   "cell_type": "markdown",
   "metadata": {},
   "source": [
    "Back to the main [Index](../index.ipynb)"
   ]
  },
  {
   "cell_type": "markdown",
   "metadata": {},
   "source": [
    "# Ontology Search\n",
    "Search in ontologies via the bioservices WebServices."
   ]
  },
  {
   "cell_type": "code",
   "execution_count": 1,
   "metadata": {
    "collapsed": false
   },
   "outputs": [],
   "source": [
    "from __future__ import print_function, division\n",
    "%matplotlib inline\n",
    "%load_ext autoreload\n",
    "%autoreload 2"
   ]
  },
  {
   "cell_type": "markdown",
   "metadata": {},
   "source": [
    "## Query KEGG.Reaction and ChEBI\n",
    "Input search term and click **search**. The search can take some time due to the WebServices."
   ]
  },
  {
   "cell_type": "code",
   "execution_count": 2,
   "metadata": {
    "collapsed": false
   },
   "outputs": [
    {
     "name": "stdout",
     "output_type": "stream",
     "text": [
      "... querying WebService ...\n",
      "http://identifiers.org/kegg.reaction/beta-D-glucose-6-phosphate:NAD+ 1-oxidoreductase; beta-D-Glucose 6-phosphate + NAD+ <=> D-Glucono-1,5-lactone 6-phosphate + NADH + H+\n",
      "http://identifiers.org/kegg.reaction/dTDP-4-acetamido-4,6-dideoxy-D-glucose:2-oxoglutarate aminotransferase; dTDP-4-acetamido-4,6-dideoxy-D-glucose + 2-Oxoglutarate + CoA <=> dTDP-4-oxo-6-deoxy-D-glucose + L-Glutamate + Acetyl-CoA\n",
      "http://identifiers.org/kegg.reaction/UDP-glucose:thiohydroximate S-beta-D-glucosyltransferase; Thiohydroximic acid + UDP-glucose <=> desulfo-Glucosinolate + UDP\n",
      "http://identifiers.org/kegg.reaction/Thioglucoside glucohydrolase; Glucobrassicin + H2O <=> 3-Indoleacetonitrile + D-Glucose + Sulfate + Sulfur\n",
      "http://identifiers.org/kegg.reaction/UDP-glucose:D-glucose-6-phosphate 1-alpha-D-glucosyltransferase; UDP-glucose + D-Glucose 6-phosphate <=> UDP + alpha,alpha'-Trehalose 6-phosphate\n"
     ]
    }
   ],
   "source": [
    "import tellurium as te\n",
    "from tellurium.widgets import OntologySearch\n",
    "form = OntologySearch()"
   ]
  },
  {
   "cell_type": "code",
   "execution_count": null,
   "metadata": {
    "collapsed": true
   },
   "outputs": [],
   "source": []
  }
 ],
 "metadata": {
  "kernelspec": {
   "display_name": "Python 2",
   "language": "python",
   "name": "python2"
  },
  "language_info": {
   "codemirror_mode": {
    "name": "ipython",
    "version": 2
   },
   "file_extension": ".py",
   "mimetype": "text/x-python",
   "name": "python",
   "nbconvert_exporter": "python",
   "pygments_lexer": "ipython2",
   "version": "2.7.6"
  }
 },
 "nbformat": 4,
 "nbformat_minor": 0
}
