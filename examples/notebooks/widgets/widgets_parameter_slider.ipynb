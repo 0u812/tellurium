{
 "cells": [
  {
   "cell_type": "markdown",
   "metadata": {},
   "source": [
    "Back to the main [Index](../index.ipynb)"
   ]
  },
  {
   "cell_type": "markdown",
   "metadata": {},
   "source": [
    "# Interactive Parameter Slider\n",
    "Interactive parameter slider for IPython Notebooks and roadrunner models."
   ]
  },
  {
   "cell_type": "code",
   "execution_count": null,
   "metadata": {},
   "outputs": [],
   "source": [
    "from __future__ import print_function, division\n",
    "\n",
    "import tellurium as te\n",
    "from tellurium.notebooks import ParameterSlider\n",
    "\n",
    "r = te.loada('''\n",
    "      model pathway()\n",
    "        S1 -> S2; k1*S1 - k2*S2 # Reversible term added here\n",
    "\n",
    "        # Initialize values\n",
    "        S1 = 5; S2 = 0;\n",
    "        k1 = 0.1;  k2 = 0.05;\n",
    "\n",
    "      end\n",
    "''')"
   ]
  },
  {
   "cell_type": "code",
   "execution_count": null,
   "metadata": {},
   "outputs": [],
   "source": [
    "ParameterSlider(r, paramIds=['k1', 'k2']);"
   ]
  },
  {
   "cell_type": "code",
   "execution_count": null,
   "metadata": {},
   "outputs": [],
   "source": []
  }
 ],
 "metadata": {
  "kernelspec": {
   "display_name": "Python 2",
   "language": "python",
   "name": "python2"
  },
  "language_info": {
   "codemirror_mode": {
    "name": "ipython",
    "version": 2
   },
   "file_extension": ".py",
   "mimetype": "text/x-python",
   "name": "python",
   "nbconvert_exporter": "python",
   "pygments_lexer": "ipython2",
   "version": "2.7.13"
  }
 },
 "nbformat": 4,
 "nbformat_minor": 1
}
