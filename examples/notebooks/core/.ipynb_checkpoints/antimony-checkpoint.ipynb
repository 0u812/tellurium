{
 "cells": [
  {
   "cell_type": "markdown",
   "metadata": {},
   "source": [
    "Back to the main [Index](../index.ipynb)"
   ]
  },
  {
   "cell_type": "markdown",
   "metadata": {},
   "source": [
    "### Antimony model building\n",
    "Description Text"
   ]
  },
  {
   "cell_type": "code",
   "execution_count": 1,
   "metadata": {
    "collapsed": false
   },
   "outputs": [
    {
     "name": "stdout",
     "output_type": "stream",
     "text": [
      "--------------------------------------------------------------------------------\n",
      "tellurium : 1.3.0\n",
      "roadrunner : 1.4.2; Compiler: gcc 4.8.4, C++ version: 199711; JIT Compiler: LLVM-3.4; Date: Feb  3 2016, 08:19:01; LibSBML Version: 5.12.0\n",
      "antimony : v2.8.0\n",
      "snbw_viewer : No information for sbnw viewer\n",
      "libsbml : 5.12.1\n",
      "libsedml : 401\n",
      "phrasedml : v0.5 beta\n",
      "--------------------------------------------------------------------------------\n",
      "// Created by libAntimony v2.8.1\n",
      "model *example()\n",
      "\n",
      "  // Events:\n",
      "  _E0: at time == 10: p1 = 10;\n",
      "  _E1: at time == 20: p1 = 0;\n",
      "\n",
      "  // Variable initializations:\n",
      "  p1 = 0;\n",
      "\n",
      "  // Other declarations:\n",
      "  var p1;\n",
      "end\n",
      "\n",
      "<?xml version=\"1.0\" encoding=\"UTF-8\"?>\n",
      "<sbml xmlns=\"http://www.sbml.org/sbml/level3/version1/core\" level=\"3\" version=\"1\">\n",
      "  <model id=\"example\" name=\"example\">\n",
      "    <listOfParameters>\n",
      "      <parameter id=\"p1\" value=\"0\" constant=\"false\"/>\n",
      "    </listOfParameters>\n",
      "    <listOfEvents>\n",
      "      <event id=\"_E0\" useValuesFromTriggerTime=\"true\">\n",
      "        <trigger initialValue=\"true\" persistent=\"true\">\n",
      "          <math xmlns=\"http://www.w3.org/1998/Math/MathML\">\n",
      "            <apply>\n",
      "              <eq/>\n",
      "              <csymbol encoding=\"text\" definitionURL=\"http://www.sbml.org/sbml/symbols/time\"> time </csymbol>\n",
      "              <cn type=\"integer\"> 10 </cn>\n",
      "            </apply>\n",
      "          </math>\n",
      "        </trigger>\n",
      "        <listOfEventAssignments>\n",
      "          <eventAssignment variable=\"p1\">\n",
      "            <math xmlns=\"http://www.w3.org/1998/Math/MathML\">\n",
      "              <cn type=\"integer\"> 10 </cn>\n",
      "            </math>\n",
      "          </eventAssignment>\n",
      "        </listOfEventAssignments>\n",
      "      </event>\n",
      "      <event id=\"_E1\" useValuesFromTriggerTime=\"true\">\n",
      "        <trigger initialValue=\"true\" persistent=\"true\">\n",
      "          <math xmlns=\"http://www.w3.org/1998/Math/MathML\">\n",
      "            <apply>\n",
      "              <eq/>\n",
      "              <csymbol encoding=\"text\" definitionURL=\"http://www.sbml.org/sbml/symbols/time\"> time </csymbol>\n",
      "              <cn type=\"integer\"> 20 </cn>\n",
      "            </apply>\n",
      "          </math>\n",
      "        </trigger>\n",
      "        <listOfEventAssignments>\n",
      "          <eventAssignment variable=\"p1\">\n",
      "            <math xmlns=\"http://www.w3.org/1998/Math/MathML\">\n",
      "              <cn type=\"integer\"> 0 </cn>\n",
      "            </math>\n",
      "          </eventAssignment>\n",
      "        </listOfEventAssignments>\n",
      "      </event>\n",
      "    </listOfEvents>\n",
      "  </model>\n",
      "</sbml>\n",
      "\n"
     ]
    },
    {
     "data": {
      "image/png": "[encoded data removed]",
      "text/plain": [
       "<matplotlib.figure.Figure at 0x7efff4397c10>"
      ]
     },
     "metadata": {},
     "output_type": "display_data"
    },
    {
     "name": "stdout",
     "output_type": "stream",
     "text": [
      "       time, p1\n",
      " [[       0,  0],\n",
      "  [ 1.02564,  0],\n",
      "  [ 2.05128,  0],\n",
      "  [ 3.07692,  0],\n",
      "  [ 4.10256,  0],\n",
      "  [ 5.12821,  0],\n",
      "  [ 6.15385,  0],\n",
      "  [ 7.17949,  0],\n",
      "  [ 8.20513,  0],\n",
      "  [ 9.23077,  0],\n",
      "  [ 10.2564,  0],\n",
      "  [ 11.2821,  0],\n",
      "  [ 12.3077,  0],\n",
      "  [ 13.3333,  0],\n",
      "  [  14.359,  0],\n",
      "  [ 15.3846,  0],\n",
      "  [ 16.4103,  0],\n",
      "  [ 17.4359,  0],\n",
      "  [ 18.4615,  0],\n",
      "  [ 19.4872,  0],\n",
      "  [ 20.5128,  0],\n",
      "  [ 21.5385,  0],\n",
      "  [ 22.5641,  0],\n",
      "  [ 23.5897,  0],\n",
      "  [ 24.6154,  0],\n",
      "  [  25.641,  0],\n",
      "  [ 26.6667,  0],\n",
      "  [ 27.6923,  0],\n",
      "  [ 28.7179,  0],\n",
      "  [ 29.7436,  0],\n",
      "  [ 30.7692,  0],\n",
      "  [ 31.7949,  0],\n",
      "  [ 32.8205,  0],\n",
      "  [ 33.8462,  0],\n",
      "  [ 34.8718,  0],\n",
      "  [ 35.8974,  0],\n",
      "  [ 36.9231,  0],\n",
      "  [ 37.9487,  0],\n",
      "  [ 38.9744,  0],\n",
      "  [      40,  0]]\n",
      "\n"
     ]
    },
    {
     "data": {
      "image/png": "[encoded data removed]",
      "text/plain": [
       "<matplotlib.figure.Figure at 0x7effd4a4fb10>"
      ]
     },
     "metadata": {},
     "output_type": "display_data"
    },
    {
     "name": "stdout",
     "output_type": "stream",
     "text": [
      "         time, p1\n",
      " [[         0,  0],\n",
      "  [ 0.0013729,  0],\n",
      "  [   13.7304,  0],\n",
      "  [        40,  0]]\n",
      "\n"
     ]
    }
   ],
   "source": [
    "%matplotlib inline\n",
    "from __future__ import print_function\n",
    "import tellurium as te\n",
    "\n",
    "print('-' * 80)\n",
    "te.printVersionInfo()\n",
    "print('-' * 80)\n",
    "\n",
    "r = te.loada('''\n",
    "model example\n",
    "    p1 = 0;\n",
    "    at time==10: p1=10;\n",
    "    at time==20: p1=0;\n",
    "end\n",
    "''')\n",
    "\n",
    "# look at model\n",
    "ant_str = r.getCurrentAntimony()\n",
    "sbml_str = r.getCurrentSBML()\n",
    "print(ant_str)\n",
    "print(sbml_str)\n",
    "# r.exportToSBML('/home/mkoenig/Desktop/test.xml')\n",
    "\n",
    "# set selections\n",
    "r.selections=['time', 'p1']\n",
    "r.integrator.setValue(\"variable_step_size\", False)\n",
    "s1 = r.simulate(0, 40, 40)\n",
    "r.plot()\n",
    "print(s1)\n",
    "\n",
    "r.integrator.setValue(\"variable_step_size\", True)\n",
    "s2 = r.simulate(0, 40)\n",
    "r.plot()\n",
    "print(s2)"
   ]
  },
  {
   "cell_type": "code",
   "execution_count": null,
   "metadata": {
    "collapsed": true
   },
   "outputs": [],
   "source": []
  }
 ],
 "metadata": {
  "kernelspec": {
   "display_name": "Python 2",
   "language": "python",
   "name": "python2"
  },
  "language_info": {
   "codemirror_mode": {
    "name": "ipython",
    "version": 2
   },
   "file_extension": ".py",
   "mimetype": "text/x-python",
   "name": "python",
   "nbconvert_exporter": "python",
   "pygments_lexer": "ipython2",
   "version": "2.7.6"
  }
 },
 "nbformat": 4,
 "nbformat_minor": 0
}
