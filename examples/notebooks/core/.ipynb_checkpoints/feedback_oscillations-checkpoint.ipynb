{
 "cells": [
  {
   "cell_type": "markdown",
   "metadata": {},
   "source": [
    "Back to the main [Index](../index.ipynb)"
   ]
  },
  {
   "cell_type": "markdown",
   "metadata": {},
   "source": [
    "### Feedback oscillations\n",
    "Model oscillations via feedback "
   ]
  },
  {
   "cell_type": "code",
   "execution_count": 1,
   "metadata": {
    "collapsed": true
   },
   "outputs": [],
   "source": [
    "%matplotlib inline\n",
    "from __future__ import print_function\n",
    "import tellurium as te\n",
    "\n",
    "r = te.loada ('''\n",
    "model feedback()\n",
    "   // Reactions:\n",
    "   J0: $X0 -> S1; (VM1 * (X0 - S1/Keq1))/(1 + X0 + S1 + S4^h);\n",
    "   J1: S1 -> S2; (10 * S1 - 2 * S2) / (1 + S1 + S2);\n",
    "   J2: S2 -> S3; (10 * S2 - 2 * S3) / (1 + S2 + S3);\n",
    "   J3: S3 -> S4; (10 * S3 - 2 * S4) / (1 + S3 + S4);\n",
    "   J4: S4 -> $X1; (V4 * S4) / (KS4 + S4);\n",
    "\n",
    "  // Species initializations:\n",
    "  S1 = 0; S2 = 0; S3 = 0;\n",
    "  S4 = 0; X0 = 10; X1 = 0;\n",
    "\n",
    "  // Variable initialization:\n",
    "  VM1 = 10; Keq1 = 10; h = 10; V4 = 2.5; KS4 = 0.5;\n",
    "end''')\n",
    "\n",
    "res = r.simulate(0, 40, 500)\n",
    "r.plot()"
   ]
  },
  {
   "cell_type": "code",
   "execution_count": null,
   "metadata": {
    "collapsed": true
   },
   "outputs": [],
   "source": []
  }
 ],
 "metadata": {
  "kernelspec": {
   "display_name": "Python 2",
   "language": "python",
   "name": "python2"
  },
  "language_info": {
   "codemirror_mode": {
    "name": "ipython",
    "version": 2
   },
   "file_extension": ".py",
   "mimetype": "text/x-python",
   "name": "python",
   "nbconvert_exporter": "python",
   "pygments_lexer": "ipython2",
   "version": "2.7.6"
  }
 },
 "nbformat": 4,
 "nbformat_minor": 0
}
