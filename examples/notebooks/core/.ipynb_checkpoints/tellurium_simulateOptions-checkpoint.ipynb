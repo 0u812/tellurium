{
 "cells": [
  {
   "cell_type": "markdown",
   "metadata": {},
   "source": [
    "Back to the main [Index](../index.ipynb)"
   ]
  },
  {
   "cell_type": "markdown",
   "metadata": {},
   "source": [
    "### Simulate Options\n",
    "Tellurium provides some utility functions for setting `simulateOptions` for the simulation."
   ]
  },
  {
   "cell_type": "code",
   "execution_count": 7,
   "metadata": {
    "collapsed": false
   },
   "outputs": [
    {
     "name": "stdout",
     "output_type": "stream",
     "text": [
      "< roadrunner.SimulateOptions() \n",
      "{ \n",
      "'this' : 0x2e6c960, \n",
      "'reset' : 0,\n",
      "'structuredResult' : 0,\n",
      "'copyResult' : 1,\n",
      "'steps' : 19,\n",
      "'start' : 5,\n",
      "'duration' : 15\n",
      "}>\n"
     ]
    },
    {
     "data": {
      "image/png": "[encoded data removed]",
      "text/plain": [
       "<matplotlib.figure.Figure at 0x7f5955954d90>"
      ]
     },
     "metadata": {},
     "output_type": "display_data"
    }
   ],
   "source": [
    "%matplotlib inline\n",
    "from __future__ import print_function\n",
    "import tellurium as te\n",
    "\n",
    "r = te.loada('''\n",
    "    model pathway()\n",
    "         S1 -> S2; k1*S1\n",
    "\n",
    "         # Initialize values\n",
    "         S1 = 10; S2 = 0\n",
    "         k1 = 1\n",
    "    end\n",
    "''')\n",
    "\n",
    "# set the start time\n",
    "r.setStartTime(5)\n",
    "# set the end time\n",
    "r.setEndTime(20)\n",
    "# set number of points (= steps-1)\n",
    "r.setNumberOfPoints(20)\n",
    "\n",
    "# show roadrunner simulation options\n",
    "print(r.simulateOptions)\n",
    "r.simulate()\n",
    "r.plot()"
   ]
  },
  {
   "cell_type": "code",
   "execution_count": null,
   "metadata": {
    "collapsed": true
   },
   "outputs": [],
   "source": []
  }
 ],
 "metadata": {
  "kernelspec": {
   "display_name": "Python 2",
   "language": "python",
   "name": "python2"
  },
  "language_info": {
   "codemirror_mode": {
    "name": "ipython",
    "version": 2
   },
   "file_extension": ".py",
   "mimetype": "text/x-python",
   "name": "python",
   "nbconvert_exporter": "python",
   "pygments_lexer": "ipython2",
   "version": "2.7.6"
  }
 },
 "nbformat": 4,
 "nbformat_minor": 0
}
