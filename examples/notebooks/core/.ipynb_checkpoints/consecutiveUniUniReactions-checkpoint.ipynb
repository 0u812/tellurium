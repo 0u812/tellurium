{
 "cells": [
  {
   "cell_type": "markdown",
   "metadata": {},
   "source": [
    "### Consecutive UniUni reactions using first-order mass-action kinetics\n",
    "Model creation and simulation."
   ]
  },
  {
   "cell_type": "code",
   "execution_count": null,
   "metadata": {
    "collapsed": true
   },
   "outputs": [],
   "source": [
    "%matplotlib inline\n",
    "from __future__ import print_function"
   ]
  },
  {
   "cell_type": "code",
   "execution_count": null,
   "metadata": {
    "collapsed": false
   },
   "outputs": [],
   "source": [
    "import tellurium as te\n",
    "\n",
    "r = te.loada('''\n",
    "  model pathway()\n",
    "    S1 -> S2; k1*S1\n",
    "    S2 -> S3; k2*S2\n",
    "    S3 -> S4; k3*S3\n",
    "\n",
    "    # Initialize values\n",
    "    S1 = 5; S2 = 0; S3 = 0; S4 = 0;\n",
    "    k1 = 0.1;  k2 = 0.55; k3 = 0.76\n",
    "  end\n",
    "''')\n",
    "result = r.simulate(0, 20, 50)\n",
    "te.plotArray(result);\n",
    "print(result)"
   ]
  }
 ],
 "metadata": {
  "kernelspec": {
   "display_name": "Python 2",
   "language": "python",
   "name": "python2"
  },
  "language_info": {
   "codemirror_mode": {
    "name": "ipython",
    "version": 2
   },
   "file_extension": ".py",
   "mimetype": "text/x-python",
   "name": "python",
   "nbconvert_exporter": "python",
   "pygments_lexer": "ipython2",
   "version": "2.7.6"
  }
 },
 "nbformat": 4,
 "nbformat_minor": 0
}
