{
 "cells": [
  {
   "cell_type": "markdown",
   "metadata": {},
   "source": [
    "Back to the main [Index](../index.ipynb)"
   ]
  },
  {
   "cell_type": "markdown",
   "metadata": {},
   "source": [
    "### phrasedml\n",
    "#### phrasedml experiment\n",
    "Tellurium provides support for simulation descriptions in SED-ML the export in Combine Archive format."
   ]
  },
  {
   "cell_type": "code",
   "execution_count": 1,
   "metadata": {
    "collapsed": false
   },
   "outputs": [
    {
     "data": {
      "image/png": "[encoded data removed]",
      "text/plain": [
       "<matplotlib.figure.Figure at 0x7fd71280fed0>"
      ]
     },
     "metadata": {},
     "output_type": "display_data"
    },
    {
     "name": "stdout",
     "output_type": "stream",
     "text": [
      "myModel = '''\n",
      "model myModel\n",
      "  S1 -> S2; k1*S1\n",
      "  S1 = 10; S2 = 0\n",
      "  k1 = 1\n",
      "end\n",
      "'''\n",
      "\n",
      "# Translated SED-ML\n",
      "# Beginning of generated script\n",
      "import tellurium as te\n",
      "import numpy as np\n",
      "import matplotlib.pyplot as plt\n",
      "\n",
      "# Execute the tasks of model: model1\n",
      "model1 = te.loada(myModel)\n",
      "model1.timeCourseSelections = [\"time\",\"S1\",\"S2\"]\n",
      "t1 = model1.simulate(0, 5, 100)\n",
      "\n",
      "# List of Data Generators\n",
      "plot_0_0_0 = t1[0.0:,0]\n",
      "plot_0_0_1 = t1[0.0:,1]\n",
      "plot_0_1_1 = t1[0.0:,2]\n",
      "\n",
      "# List of Outputs\n",
      "Y_0 = np.array([plot_0_0_1, plot_0_1_1]).T\n",
      "plt.plot(plot_0_0_0, Y_0)\n",
      "plt.title('Figure 1')\n",
      "plt.show()\n",
      "\n",
      "# End of generated script\n"
     ]
    }
   ],
   "source": [
    "%matplotlib inline\n",
    "from __future__ import print_function\n",
    "import tellurium as te\n",
    "\n",
    "antimony = '''\n",
    "model myModel\n",
    "  S1 -> S2; k1*S1\n",
    "  S1 = 10; S2 = 0\n",
    "  k1 = 1\n",
    "end\n",
    "'''\n",
    "\n",
    "phrasedml = '''\n",
    "  model1 = model \"myModel\"\n",
    "  sim1 = simulate uniform(0, 5, 100)\n",
    "  task1 = run sim1 on model1\n",
    "  plot \"Figure 1\" time vs S1, S2\n",
    "'''\n",
    "\n",
    "# create an experiment and perform it\n",
    "exp = te.experiment(antimony, phrasedml)\n",
    "\n",
    "exp.execute()\n",
    "exp.printpython()"
   ]
  },
  {
   "cell_type": "markdown",
   "metadata": {},
   "source": [
    "#### Combine Archive\n",
    "The experiment, i.e. model with the simulation description, can be stored as Combine Archive."
   ]
  },
  {
   "cell_type": "code",
   "execution_count": 7,
   "metadata": {
    "collapsed": false
   },
   "outputs": [
    {
     "name": "stdout",
     "output_type": "stream",
     "text": [
      "['myModel.xml', 'experiment1.xml', 'manifest.xml']\n"
     ]
    }
   ],
   "source": [
    "# create Combine Archive\n",
    "import tempfile\n",
    "f = tempfile.NamedTemporaryFile()\n",
    "exp.exportAsCombine(f.name)\n",
    "\n",
    "# print the content of the Combine Archive\n",
    "import zipfile\n",
    "zip=zipfile.ZipFile(f.name)\n",
    "print(zip.namelist())"
   ]
  },
  {
   "cell_type": "code",
   "execution_count": null,
   "metadata": {
    "collapsed": true
   },
   "outputs": [],
   "source": []
  }
 ],
 "metadata": {
  "kernelspec": {
   "display_name": "Python 2",
   "language": "python",
   "name": "python2"
  },
  "language_info": {
   "codemirror_mode": {
    "name": "ipython",
    "version": 2
   },
   "file_extension": ".py",
   "mimetype": "text/x-python",
   "name": "python",
   "nbconvert_exporter": "python",
   "pygments_lexer": "ipython2",
   "version": "2.7.6"
  }
 },
 "nbformat": 4,
 "nbformat_minor": 0
}
