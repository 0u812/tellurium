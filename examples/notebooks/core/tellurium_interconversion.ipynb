{
  "cells": [
    {
      "cell_type": "markdown",
      "source": [
        "Back to the main [Index](../index.ipynb)"
      ],
      "metadata": {}
    },
    {
      "cell_type": "markdown",
      "source": [
        "#### Antimony, SBML, CellML\n",
        "\nTellurium can convert between Antimony, SBML, and CellML."
      ],
      "metadata": {}
    },
    {
      "cell_type": "code",
      "source": [
        "from __future__ import print_function\n",
        "import tellurium as te\n",
        "%matplotlib inline\n",
        "\n",
        "# antimony model\n",
        "ant_model = \"\"\"\n",
        "    S1 -> S2; k1*S1;\n",
        "    S2 -> S3; k2*S2;\n",
        "\n",
        "    k1= 0.1; k2 = 0.2; \n",
        "    S1 = 10; S2 = 0; S3 = 0;\n",
        "\"\"\"\n",
        "\n",
        "# convert to SBML\n",
        "sbml_model = te.antimonyToSBML(ant_model)\n",
        "print('sbml_model')\n",
        "print('*'*80)\n",
        "# print first 10 lines\n",
        "for line in list(sbml_model.splitlines())[:10]:\n",
        "    print(line)\n",
        "print('...')\n",
        "    \n",
        "# convert to CellML\n",
        "cellml_model = te.antimonyToCellML(ant_model)\n",
        "print('cellml_model (from Antimony)')\n",
        "print('*'*80)\n",
        "# print first 10 lines\n",
        "for line in list(cellml_model.splitlines())[:10]:\n",
        "    print(line)\n",
        "print('...')\n",
        "\n",
        "# or from the sbml\n",
        "cellml_model = te.sbmlToCellML(sbml_model)\n",
        "print('cellml_model (from SBML)')\n",
        "print('*'*80)\n",
        "# print first 10 lines\n",
        "for line in list(cellml_model.splitlines())[:10]:\n",
        "    print(line)\n",
        "print('...')"
      ],
      "outputs": [
        {
          "output_type": "stream",
          "name": "stdout",
          "text": [
            "sbml_model\n",
            "********************************************************************************\n",
            "<?xml version=\"1.0\" encoding=\"UTF-8\"?>\n",
            "<!-- Created by libAntimony version v2.9.3 with libSBML version 5.15.0. -->\n",
            "<sbml xmlns=\"http://www.sbml.org/sbml/level3/version1/core\" level=\"3\" version=\"1\">\n",
            "  <model id=\"__main\" name=\"__main\">\n",
            "    <listOfCompartments>\n",
            "      <compartment sboTerm=\"SBO:0000410\" id=\"default_compartment\" spatialDimensions=\"3\" size=\"1\" constant=\"true\"/>\n",
            "    </listOfCompartments>\n",
            "    <listOfSpecies>\n",
            "      <species id=\"S1\" compartment=\"default_compartment\" initialConcentration=\"10\" hasOnlySubstanceUnits=\"false\" boundaryCondition=\"false\" constant=\"false\"/>\n",
            "      <species id=\"S2\" compartment=\"default_compartment\" initialConcentration=\"0\" hasOnlySubstanceUnits=\"false\" boundaryCondition=\"false\" constant=\"false\"/>\n",
            "...\n",
            "cellml_model (from Antimony)\n",
            "********************************************************************************\n",
            "<?xml version=\"1.0\"?>\n",
            "<model xmlns:cellml=\"http://www.cellml.org/cellml/1.1#\" xmlns=\"http://www.cellml.org/cellml/1.1#\" name=\"__main\">\n",
            "<component name=\"__main\">\n",
            "<variable initial_value=\"10\" name=\"S1\" units=\"dimensionless\"/>\n",
            "<variable initial_value=\"0\" name=\"S2\" units=\"dimensionless\"/>\n",
            "<variable initial_value=\"0.1\" name=\"k1\" units=\"dimensionless\"/>\n",
            "<variable name=\"_J0\" units=\"dimensionless\"/>\n",
            "<variable initial_value=\"0\" name=\"S3\" units=\"dimensionless\"/>\n",
            "<variable initial_value=\"0.2\" name=\"k2\" units=\"dimensionless\"/>\n",
            "<variable name=\"_J1\" units=\"dimensionless\"/>\n",
            "...\n",
            "cellml_model (from SBML)\n",
            "********************************************************************************\n",
            "<?xml version=\"1.0\"?>\n",
            "<model xmlns:cellml=\"http://www.cellml.org/cellml/1.1#\" xmlns=\"http://www.cellml.org/cellml/1.1#\" name=\"__main\">\n",
            "<component name=\"__main\">\n",
            "<variable initial_value=\"10\" name=\"S1\" units=\"dimensionless\"/>\n",
            "<variable initial_value=\"0\" name=\"S2\" units=\"dimensionless\"/>\n",
            "<variable initial_value=\"0\" name=\"S3\" units=\"dimensionless\"/>\n",
            "<variable initial_value=\"0.1\" name=\"k1\" units=\"dimensionless\"/>\n",
            "<variable initial_value=\"0.2\" name=\"k2\" units=\"dimensionless\"/>\n",
            "<variable name=\"_J0\" units=\"dimensionless\"/>\n",
            "<variable name=\"_J1\" units=\"dimensionless\"/>\n",
            "...\n"
          ]
        }
      ],
      "execution_count": 8,
      "metadata": {
        "collapsed": false
      }
    }
  ],
  "metadata": {
    "kernelspec": {
      "name": "python3",
      "language": "python",
      "display_name": "Python 3"
    },
    "language_info": {
      "name": "python",
      "version": "3.6.1",
      "mimetype": "text/x-python",
      "codemirror_mode": {
        "name": "ipython",
        "version": 3
      },
      "pygments_lexer": "ipython3",
      "nbconvert_exporter": "python",
      "file_extension": ".py"
    },
    "kernel_info": {
      "name": "python3"
    }
  },
  "nbformat": 4,
  "nbformat_minor": 0
}