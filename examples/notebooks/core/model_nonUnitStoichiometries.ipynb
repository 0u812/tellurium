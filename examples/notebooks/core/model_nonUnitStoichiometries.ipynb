{
  "cells": [
    {
      "cell_type": "markdown",
      "source": [
        "Back to the main [Index](../index.ipynb)"
      ],
      "metadata": {}
    },
    {
      "cell_type": "markdown",
      "source": [
        "### Non-unit stoichiometries\n",
        "The following example demonstrates how to create a model with non-unit stoichiometries."
      ],
      "metadata": {}
    },
    {
      "cell_type": "code",
      "source": [
        "from __future__ import print_function\n",
        "import tellurium as te\n",
        "te.setDefaultPlottingEngine(\"matplotlib\")\n",
        "%matplotlib inline\n",
        "\n",
        "r = te.loada('''\n",
        "  model pathway()\n",
        "    S1 + S2 -> 2 S3; k1*S1*S2\n",
        "    3 S3 -> 4 S4 + 6 S5; k2*S3^3\n",
        "    k1 = 0.1;k2 = 0.1;\n",
        "  end\n",
        "''')\n",
        "print(r.getCurrentAntimony())"
      ],
      "outputs": [
        {
          "output_type": "stream",
          "name": "stdout",
          "text": [
            "// Created by libAntimony v2.9.3\n",
            "model *pathway()\n",
            "\n",
            "  // Compartments and Species:\n",
            "  species S1, S2, S3, S4, S5;\n",
            "\n",
            "  // Reactions:\n",
            "  _J0: S1 + S2 -> 2 S3; k1*S1*S2;\n",
            "  _J1: 3 S3 -> 4 S4 + 6 S5; k2*S3^3;\n",
            "\n",
            "  // Species initializations:\n",
            "  S1 = 0;\n",
            "  S2 = 0;\n",
            "  S3 = 0;\n",
            "  S4 = 0;\n",
            "  S5 = 0;\n",
            "\n",
            "  // Variable initializations:\n",
            "  k1 = 0.1;\n",
            "  k2 = 0.1;\n",
            "\n",
            "  // Other declarations:\n",
            "  const k1, k2;\n",
            "end\n",
            "\n"
          ]
        }
      ],
      "execution_count": 2,
      "metadata": {
        "collapsed": false
      }
    }
  ],
  "metadata": {
    "kernelspec": {
      "name": "python3",
      "language": "python",
      "display_name": "Python 3"
    },
    "language_info": {
      "name": "python",
      "version": "3.6.1",
      "mimetype": "text/x-python",
      "codemirror_mode": {
        "name": "ipython",
        "version": 3
      },
      "pygments_lexer": "ipython3",
      "nbconvert_exporter": "python",
      "file_extension": ".py"
    },
    "kernel_info": {
      "name": "python3"
    }
  },
  "nbformat": 4,
  "nbformat_minor": 0
}