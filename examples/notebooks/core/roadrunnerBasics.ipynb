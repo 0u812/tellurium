{
  "cells": [
    {
      "cell_type": "markdown",
      "source": [
        "Back to the main [Index](../index.ipynb)"
      ],
      "metadata": {}
    },
    {
      "cell_type": "markdown",
      "source": [
        "### Model Loading\n",
        "\n",
        "To load models use any the following functions. Each function takes a model with the corresponding format and converts it to a [`RoadRunner`](http://sys-bio.github.io/roadrunner/python_docs/index.html) simulator instance.\n",
        "\n",
        "* `te.loadAntimony` (`te.loada`): Load an Antimony model.\n",
        "* `te.loadSBML`: Load an SBML model.\n",
        "* `te.loadCellML`: Load a CellML model (this passes the model through Antimony and converts it to SBML, may be lossy)."
      ],
      "metadata": {}
    },
    {
      "cell_type": "code",
      "source": [
        "%matplotlib inline\n",
        "from __future__ import print_function\n",
        "import tellurium as te\n",
        "\n",
        "model = \"\"\"\n",
        "model test\n",
        "    compartment C1;\n",
        "    C1 = 1.0;\n",
        "    species S1, S2;\n",
        "    \n",
        "    S1 = 10.0;\n",
        "    S2 = 0.0;\n",
        "    S1 in C1; S2 in C1;\n",
        "    J1: S1 -> S2; k1*S1;\n",
        "    \n",
        "    k1 = 1.0;\n",
        "end\n",
        "\"\"\"\n",
        "# load models\n",
        "r = te.loada(model)"
      ],
      "outputs": [],
      "execution_count": 1,
      "metadata": {
        "collapsed": false
      }
    },
    {
      "cell_type": "markdown",
      "source": [
        "### Integrator and Integrator Settings\n",
        "To set the integrator use `r.setIntegrator(<integrator-name>)` or `r.integrator = <integrator-name>`. RoadRunner supports `'cvode'`, `'gillespie'`, and `'rk4'` for the integrator name. CVODE uses adaptive stepping internally, regardless of whether the output is gridded or not. The size of these\n",
        "\n",
        "To set integrator settings use `r.integrator.setValue(key, value)`. Here are some important settings for the `cvode` integrator:\n",
        "\n",
        "* `variable_step_size`: Adaptive step-size integration (`True`/`False`).\n",
        "* `stiff`: Stiff solver for CVODE only (`True`/`False`). Enabled by default.\n",
        "* `absolute_tolerance`: Absolute numerical tolerance for integrator internal stepping.\n",
        "* `relative_tolerance`: Relative numerical tolerance for integrator internal stepping.\n",
        "\n",
        "For the `gillespie` integrator:\n",
        "\n",
        "* `seed`: The RNG seed for the Gillespie method. You can set this before running a simulation, or leave it alone for a different seed each time. Simulations initialized with the same seed will have the same results.\n",
        "\nYou can also use settings as properties, e.g. `r.integrator.seed = 1234` is a shorthand for `setValue`."
      ],
      "metadata": {}
    },
    {
      "cell_type": "code",
      "source": [
        "# set integrator\n",
        "r.setIntegrator('rk4')\n",
        "r.setIntegrator('gillespie')\n",
        "r.setIntegrator('cvode')\n",
        "\n",
        "# set integrator settings\n",
        "r.integrator.setValue('variable_step_size', False)\n",
        "r.integrator.setValue('stiff', True)\n",
        "\n",
        "# print integrator settings\n",
        "print(r.integrator)"
      ],
      "outputs": [
        {
          "output_type": "stream",
          "name": "stdout",
          "text": [
            "< roadrunner.Integrator() >\n",
            "  name: cvode\n",
            "  settings:\n",
            "      relative_tolerance: 0.000001\n",
            "      absolute_tolerance: 0.000000000001\n",
            "                   stiff: true\n",
            "       maximum_bdf_order: 5\n",
            "     maximum_adams_order: 12\n",
            "       maximum_num_steps: 20000\n",
            "       maximum_time_step: 0\n",
            "       minimum_time_step: 0\n",
            "       initial_time_step: 0\n",
            "          multiple_steps: false\n",
            "      variable_step_size: false\n",
            "\n"
          ]
        }
      ],
      "execution_count": 2,
      "metadata": {
        "collapsed": false
      }
    },
    {
      "cell_type": "markdown",
      "source": [
        "### Simulation options\n",
        "\n",
        "The `RoadRunner.simulate` method is responsible for running simulations using the current integrator. It accepts the following arguments:\n",
        "\n",
        "* `start`: Start time.\n",
        "* `end`: End time.\n",
        "* `points`: Number of points in solution (exclusive with steps, do not pass both). If the output is gridded, the points will be evenly spaced in time. If not, the simulation will stop when it reaches the `end` time or the number of points, whichever happens first.\n",
        "* `steps`: Number of steps in solution (exclusive with points, do not pass both).\n",
        "\n"
      ],
      "metadata": {}
    },
    {
      "cell_type": "code",
      "source": [
        "# simulate from 0 to 6 with 6 points in the result\n",
        "r.reset()\n",
        "# pass args explicitly via keywords\n",
        "res1 = r.simulate(start=0, end=10, points=6)\n",
        "print(res1)\n",
        "r.reset()\n",
        "# use positional args to pass start, end, num. points\n",
        "res2 = r.simulate(0, 10, 6)\n",
        "print(res2)"
      ],
      "outputs": [
        {
          "output_type": "stream",
          "name": "stdout",
          "text": [
            "    time,       [S1],    [S2]\n",
            " [[    0,         10,       0],\n",
            "  [    2,    1.35337, 8.64663],\n",
            "  [    4,   0.183161, 9.81684],\n",
            "  [    6,  0.0247885, 9.97521],\n",
            "  [    8, 0.00335481, 9.99665],\n",
            "  [   10, 0.00045403, 9.99955]]\n",
            "\n",
            "    time,       [S1],    [S2]\n",
            " [[    0,         10,       0],\n",
            "  [    2,    1.35337, 8.64663],\n",
            "  [    4,   0.183161, 9.81684],\n",
            "  [    6,  0.0247885, 9.97521],\n",
            "  [    8, 0.00335481, 9.99665],\n",
            "  [   10, 0.00045403, 9.99955]]\n",
            "\n"
          ]
        }
      ],
      "execution_count": 4,
      "metadata": {
        "collapsed": false
      }
    },
    {
      "cell_type": "markdown",
      "source": [
        "### Selections\n",
        "\nThe selections list can be used to set which state variables will appear in the output array. By default, it includes all SBML species and the `time` variable. Selections can be either given as argument to `r.simulate` or set via `r.selections`."
      ],
      "metadata": {}
    },
    {
      "cell_type": "code",
      "source": [
        "# set selections directly\n",
        "r.selections = ['time', 'J1']\n",
        "print(r.simulate(0,10,6))\n",
        "# provide arguments to simulate\n",
        "print(r.simulate(0,10,6, selections=r.getFloatingSpeciesIds()))"
      ],
      "outputs": [
        {
          "output_type": "stream",
          "name": "stdout",
          "text": [
            "    time,          J1\n",
            " [[    0,  0.00045403],\n",
            "  [    2, 6.14464e-05],\n",
            "  [    4, 8.31595e-06],\n",
            "  [    6, 1.12545e-06],\n",
            "  [    8, 1.52314e-07],\n",
            "  [   10, 2.06149e-08]]\n",
            "\n",
            "             S1, S2\n",
            " [[ 2.06149e-08, 10],\n",
            "  [    2.79e-09, 10],\n",
            "  [ 3.76786e-10, 10],\n",
            "  [ 5.12139e-11, 10],\n",
            "  [ 7.13659e-12, 10],\n",
            "  [ 2.54938e-12, 10]]\n",
            "\n"
          ]
        }
      ],
      "execution_count": 5,
      "metadata": {
        "collapsed": false
      }
    },
    {
      "cell_type": "markdown",
      "source": [
        "### Reset model variables\n",
        "To reset the model's state variables use the `r.reset()` and `r.reset(SelectionRecord.*)` functions. If you have made modifications to parameter values, use the `r.resetAll()` function to reset parameters to their initial values when the model was loaded."
      ],
      "metadata": {}
    },
    {
      "cell_type": "code",
      "source": [
        "# show the current values\n",
        "for s in ['S1', 'S2']:\n",
        "    print('r.{} == {}'.format(s, r[s]))\n",
        "# reset initial concentrations\n",
        "r.reset()\n",
        "print('reset')\n",
        "# S1 and S2 have now again the initial values\n",
        "for s in ['S1', 'S2']:\n",
        "    print('r.{} == {}'.format(s, r[s]))"
      ],
      "outputs": [
        {
          "output_type": "stream",
          "name": "stdout",
          "text": [
            "r.S1 == 10.0\n",
            "r.S2 == 0.0\n",
            "reset\n",
            "r.S1 == 10.0\n",
            "r.S2 == 0.0\n"
          ]
        }
      ],
      "execution_count": 7,
      "metadata": {
        "collapsed": false
      }
    }
  ],
  "metadata": {
    "kernelspec": {
      "name": "python3",
      "language": "python",
      "display_name": "Python 3"
    },
    "language_info": {
      "name": "python",
      "version": "3.6.1",
      "mimetype": "text/x-python",
      "codemirror_mode": {
        "name": "ipython",
        "version": 3
      },
      "pygments_lexer": "ipython3",
      "nbconvert_exporter": "python",
      "file_extension": ".py"
    },
    "kernel_info": {
      "name": "python3"
    }
  },
  "nbformat": 4,
  "nbformat_minor": 0
}