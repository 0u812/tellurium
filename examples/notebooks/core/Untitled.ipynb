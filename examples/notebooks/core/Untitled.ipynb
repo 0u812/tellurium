{
 "cells": [
  {
   "cell_type": "markdown",
   "metadata": {},
   "source": [
    "# Unit simplification\n",
    "Problems in unit simplification"
   ]
  },
  {
   "cell_type": "code",
   "execution_count": null,
   "metadata": {
    "collapsed": true
   },
   "outputs": [],
   "source": []
  },
  {
   "cell_type": "code",
   "execution_count": null,
   "metadata": {
    "collapsed": false
   },
   "outputs": [],
   "source": [
    "from __future__ import print_function, division\n",
    "import tellurium as te\n",
    "r = te.loada(\"\"\"\n",
    "// Units\n",
    "unit mmol = 1e-3 mole;\n",
    "unit mM = mmol / litre;\n",
    "unit mmol_per_s = mmol / second;\n",
    "unit test = 1000 litre / metre^3\n",
    "\n",
    "substance = mmol;\n",
    "volume = litre;\n",
    "area = metre^2; \n",
    "length = metre;\n",
    "extent = mmol;\n",
    "time_unit = second;\n",
    "\n",
    "// Species\n",
    "species S1 = 0.0\n",
    "\n",
    "// Reaction\n",
    "J0: S1 ->; v0 * k1;\n",
    "v0 = 1.0 mmol_per_s;\n",
    "k1 = 1.0 test;\n",
    "\n",
    "\"\"\")\n",
    "sbml_str = r.getSBML()\n",
    "print(sbml_str)"
   ]
  },
  {
   "cell_type": "code",
   "execution_count": null,
   "metadata": {
    "collapsed": false
   },
   "outputs": [],
   "source": [
    "# validate\n",
    "from multiscale.sbmlutils import validation\n",
    "import tempfile\n",
    "import libsbml\n",
    "doc = libsbml.readSBML(sbml_str)\n",
    "f = tempfile.NamedTemporaryFile(suffix='.xml')\n",
    "f.write(sbml_str)\n",
    "f.flush()\n",
    "validation.check_sbml(f.name)"
   ]
  },
  {
   "cell_type": "code",
   "execution_count": 18,
   "metadata": {
    "collapsed": false
   },
   "outputs": [],
   "source": [
    "import tellurium as te\n",
    "r = te.loada(\"\"\"\n",
    "    substance = mole;\n",
    "    volume = metre^3;\n",
    "    area = metre^2; \n",
    "    length = metre;\n",
    "    extent = mole;\n",
    "    time_unit = second;\n",
    "\n",
    "    unit pmol = 1e-12 mole;\n",
    "    unit pM = pmol / litre;\n",
    "\n",
    "    // helper functions\n",
    "    function max(x,y)\n",
    "      piecewise(x,gt(x,y),y)\n",
    "    end\n",
    "    \n",
    "    species x1 := 1.0 pM;\n",
    "    species x2 := 2.0 pM;\n",
    "\n",
    "    t1 := max(x1, x2);\n",
    "    t1 has pM;\n",
    "    t2 := max(0.0 pM, 1.1 pM);\n",
    "    t2 has pM;\n",
    "\"\"\")\n",
    "sbml_str = r.getSBML()\n",
    "# print(sbml_str)"
   ]
  },
  {
   "cell_type": "code",
   "execution_count": 19,
   "metadata": {
    "collapsed": false
   },
   "outputs": [
    {
     "name": "stdout",
     "output_type": "stream",
     "text": [
      " filename : /tmp/tmpT45F8s.xml\n",
      " file size (byte) : 4393\n",
      " read time (ms) : 1.724005\n",
      " c-check time (ms) : 4.196167\n",
      " validation error(s) : 0\n",
      " consistency error(s): 0\n",
      " validation warning(s) : 1\n",
      " consistency warning(s): 1\n",
      "\n",
      "===== validation error/warning messages =====\n",
      "\n",
      "*** consistency check ***\n",
      "\n",
      "line 106: (99505 [Warning]) In situations where a mathematical expression contains literal numbers or parameters whose units have not been declared, it is not possible to verify accurately the consistency of the units in the expression. \n",
      " The units of the <assignmentRule> <math> expression 'max(0, 1.1)' cannot be fully checked. Unit consistency reported as either no errors or further unit errors related to this object may not be accurate.\n",
      "\n",
      " \n",
      "\n"
     ]
    },
    {
     "data": {
      "text/plain": [
       "{'errMsgCC': \"line 106: (99505 [Warning]) In situations where a mathematical expression contains literal numbers or parameters whose units have not been declared, it is not possible to verify accurately the consistency of the units in the expression. \\n The units of the <assignmentRule> <math> expression 'max(0, 1.1)' cannot be fully checked. Unit consistency reported as either no errors or further unit errors related to this object may not be accurate.\\n\\n\",\n",
       " 'numCCErr': 0,\n",
       " 'numCCWarn': 1,\n",
       " 'skipCC': False,\n",
       " 'timeCC': 4.1961669921875}"
      ]
     },
     "execution_count": 19,
     "metadata": {},
     "output_type": "execute_result"
    }
   ],
   "source": [
    "# validate\n",
    "from multiscale.sbmlutils import validation\n",
    "import tempfile\n",
    "import libsbml\n",
    "doc = libsbml.readSBML(sbml_str)\n",
    "f = tempfile.NamedTemporaryFile(suffix='.xml')\n",
    "f.write(sbml_str)\n",
    "f.flush()\n",
    "validation.validate_sbml(f.name)"
   ]
  },
  {
   "cell_type": "code",
   "execution_count": 21,
   "metadata": {
    "collapsed": false
   },
   "outputs": [
    {
     "name": "stdout",
     "output_type": "stream",
     "text": [
      "<?xml version=\"1.0\" encoding=\"UTF-8\"?>\n",
      "<!-- Created by libAntimony version v2.8.1 on 2016-02-16 15:57 with libSBML version 5.12.1. -->\n",
      "<sbml xmlns=\"http://www.sbml.org/sbml/level3/version1/core\" level=\"3\" version=\"1\">\n",
      "  <model id=\"__main\" name=\"__main\" substanceUnits=\"substance\" timeUnits=\"time_unit\" volumeUnits=\"volume\" areaUnits=\"area\" lengthUnits=\"length\" extentUnits=\"extent\">\n",
      "    <listOfUnitDefinitions>\n",
      "      <unitDefinition id=\"substance\">\n",
      "        <listOfUnits>\n",
      "          <unit kind=\"mole\" exponent=\"1\" scale=\"0\" multiplier=\"1\"/>\n",
      "        </listOfUnits>\n",
      "      </unitDefinition>\n",
      "      <unitDefinition id=\"volume\">\n",
      "        <listOfUnits>\n",
      "          <unit kind=\"metre\" exponent=\"3\" scale=\"0\" multiplier=\"1\"/>\n",
      "        </listOfUnits>\n",
      "      </unitDefinition>\n",
      "      <unitDefinition id=\"area\">\n",
      "        <listOfUnits>\n",
      "          <unit kind=\"metre\" exponent=\"2\" scale=\"0\" multiplier=\"1\"/>\n",
      "        </listOfUnits>\n",
      "      </unitDefinition>\n",
      "      <unitDefinition id=\"length\">\n",
      "        <listOfUnits>\n",
      "          <unit kind=\"metre\" exponent=\"1\" scale=\"0\" multiplier=\"1\"/>\n",
      "        </listOfUnits>\n",
      "      </unitDefinition>\n",
      "      <unitDefinition id=\"extent\">\n",
      "        <listOfUnits>\n",
      "          <unit kind=\"mole\" exponent=\"1\" scale=\"0\" multiplier=\"1\"/>\n",
      "        </listOfUnits>\n",
      "      </unitDefinition>\n",
      "      <unitDefinition id=\"time_unit\">\n",
      "        <listOfUnits>\n",
      "          <unit kind=\"second\" exponent=\"1\" scale=\"0\" multiplier=\"1\"/>\n",
      "        </listOfUnits>\n",
      "      </unitDefinition>\n",
      "      <unitDefinition id=\"mmol\">\n",
      "        <listOfUnits>\n",
      "          <unit kind=\"mole\" exponent=\"1\" scale=\"-3\" multiplier=\"1\"/>\n",
      "        </listOfUnits>\n",
      "      </unitDefinition>\n",
      "      <unitDefinition id=\"mM\">\n",
      "        <listOfUnits>\n",
      "          <unit kind=\"mole\" exponent=\"1\" scale=\"-3\" multiplier=\"1\"/>\n",
      "          <unit kind=\"litre\" exponent=\"-1\" scale=\"0\" multiplier=\"1\"/>\n",
      "        </listOfUnits>\n",
      "      </unitDefinition>\n",
      "    </listOfUnitDefinitions>\n",
      "    <listOfParameters>\n",
      "      <parameter id=\"n\" value=\"4.3\" units=\"dimensionless\" constant=\"true\"/>\n",
      "      <parameter id=\"k\" value=\"0.5\" units=\"mM\" constant=\"true\"/>\n",
      "      <parameter id=\"glc\" value=\"5\" units=\"mM\" constant=\"true\"/>\n",
      "      <parameter id=\"t1\" units=\"dimensionless\" constant=\"false\"/>\n",
      "    </listOfParameters>\n",
      "    <listOfRules>\n",
      "      <assignmentRule variable=\"t1\">\n",
      "        <math xmlns=\"http://www.w3.org/1998/Math/MathML\">\n",
      "          <apply>\n",
      "            <divide/>\n",
      "            <apply>\n",
      "              <power/>\n",
      "              <ci> glc </ci>\n",
      "              <ci> n </ci>\n",
      "            </apply>\n",
      "            <apply>\n",
      "              <plus/>\n",
      "              <apply>\n",
      "                <power/>\n",
      "                <ci> glc </ci>\n",
      "                <ci> n </ci>\n",
      "              </apply>\n",
      "              <apply>\n",
      "                <power/>\n",
      "                <ci> k </ci>\n",
      "                <ci> n </ci>\n",
      "              </apply>\n",
      "            </apply>\n",
      "          </apply>\n",
      "        </math>\n",
      "      </assignmentRule>\n",
      "    </listOfRules>\n",
      "  </model>\n",
      "</sbml>\n",
      "\n"
     ]
    }
   ],
   "source": [
    "import tellurium as te\n",
    "r = te.loada(\"\"\"\n",
    "    substance = mole;\n",
    "    volume = metre^3;\n",
    "    area = metre^2; \n",
    "    length = metre;\n",
    "    extent = mole;\n",
    "    time_unit = second;\n",
    "\n",
    "    unit mmol = 1e-3 mole;\n",
    "    unit mM = mmol / litre;\n",
    "    \n",
    "    n = 4.3 dimensionless;\n",
    "    k = 0.5 mM;\n",
    "    glc = 5.0 mM;\n",
    "\n",
    "    t1 := glc^n/(glc^n + k^n);\n",
    "    t1 has dimensionless;\n",
    "\"\"\")\n",
    "sbml_str = r.getSBML()\n",
    "print(sbml_str)"
   ]
  },
  {
   "cell_type": "code",
   "execution_count": 22,
   "metadata": {
    "collapsed": false
   },
   "outputs": [
    {
     "name": "stdout",
     "output_type": "stream",
     "text": [
      " filename : /tmp/tmpUJYS1T.xml\n",
      " file size (byte) : 2901\n",
      " read time (ms) : 1.370907\n",
      " c-check time (ms) : 2.803802\n",
      " validation error(s) : 0\n",
      " consistency error(s): 0\n",
      " validation warning(s) : 3\n",
      " consistency warning(s): 3\n",
      "\n",
      "===== validation error/warning messages =====\n",
      "\n",
      "*** consistency check ***\n",
      "\n",
      "line 55: (10501 [Warning])  The formula 'pow(glc, n)' in the math element of the <assignmentRule> contains a power that is not an integer and thus may produce invalid units.\n",
      "\n",
      "line 55: (10501 [Warning])  The formula 'pow(glc, n)' in the math element of the <assignmentRule> contains a power that is not an integer and thus may produce invalid units.\n",
      "\n",
      "line 55: (10501 [Warning])  The formula 'pow(k, n)' in the math element of the <assignmentRule> contains a power that is not an integer and thus may produce invalid units.\n",
      "\n",
      " \n",
      "\n"
     ]
    },
    {
     "data": {
      "text/plain": [
       "{'errMsgCC': \"line 55: (10501 [Warning])  The formula 'pow(glc, n)' in the math element of the <assignmentRule> contains a power that is not an integer and thus may produce invalid units.\\n\\nline 55: (10501 [Warning])  The formula 'pow(glc, n)' in the math element of the <assignmentRule> contains a power that is not an integer and thus may produce invalid units.\\n\\nline 55: (10501 [Warning])  The formula 'pow(k, n)' in the math element of the <assignmentRule> contains a power that is not an integer and thus may produce invalid units.\\n\\n\",\n",
       " 'numCCErr': 0,\n",
       " 'numCCWarn': 3,\n",
       " 'skipCC': False,\n",
       " 'timeCC': 2.803802490234375}"
      ]
     },
     "execution_count": 22,
     "metadata": {},
     "output_type": "execute_result"
    }
   ],
   "source": [
    "# validate\n",
    "from multiscale.sbmlutils import validation\n",
    "import tempfile\n",
    "import libsbml\n",
    "doc = libsbml.readSBML(sbml_str)\n",
    "f = tempfile.NamedTemporaryFile(suffix='.xml')\n",
    "f.write(sbml_str)\n",
    "f.flush()\n",
    "validation.validate_sbml(f.name)"
   ]
  },
  {
   "cell_type": "code",
   "execution_count": null,
   "metadata": {
    "collapsed": true
   },
   "outputs": [],
   "source": []
  }
 ],
 "metadata": {
  "kernelspec": {
   "display_name": "Python 2",
   "language": "python",
   "name": "python2"
  },
  "language_info": {
   "codemirror_mode": {
    "name": "ipython",
    "version": 2
   },
   "file_extension": ".py",
   "mimetype": "text/x-python",
   "name": "python",
   "nbconvert_exporter": "python",
   "pygments_lexer": "ipython2",
   "version": "2.7.6"
  }
 },
 "nbformat": 4,
 "nbformat_minor": 0
}
