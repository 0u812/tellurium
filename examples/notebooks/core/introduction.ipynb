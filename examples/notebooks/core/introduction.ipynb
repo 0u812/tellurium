{
  "cells": [
    {
      "cell_type": "markdown",
      "source": [
        "Back to the main [Index](../index.ipynb)"
      ],
      "metadata": {}
    },
    {
      "cell_type": "markdown",
      "source": [
        "## Simple Example\n",
        "\nThis shows how to set up a simple model in Tellurium and solve it as an ODE. Tellurium uses a human-readable representation of SBML models called Antimony. The Antimony code for this example contains a single reaction with associated kinetics. After creating the Antimony string, use the `loada` function to load it into the simulator."
      ],
      "metadata": {}
    },
    {
      "cell_type": "code",
      "source": [
        "import tellurium as te\n",
        "r = te.loada('S1 -> S2; k1*S1; k1 = 0.1; S1 = 10')\n",
        "r.simulate(0, 50, 100)\n",
        "r.plot();"
      ],
      "outputs": [],
      "execution_count": 1,
      "metadata": {
        "collapsed": false
      }
    },
    {
      "cell_type": "markdown",
      "source": [
        "## More Complex Example\n",
        "\nTellurium can also handle stochastic models. This example shows how to select Tellurium's stochastic solver. The underlying simulation engine used by Tellurium implements a Gibson direct method for simulating this model."
      ],
      "metadata": {}
    },
    {
      "cell_type": "code",
      "source": [
        "import tellurium as te\n",
        "import numpy as np\n",
        "\n",
        "r = te.loada('''\n",
        "    J1: S1 -> S2;  k1*S1; \n",
        "    J2: S2 -> S3; k2*S2 - k3*S3\n",
        "    # J2_1: S2 -> S3; k2*S2\n",
        "    # J2_2: S3 -> S2; k3*S3;\n",
        "    J3: S3 -> S4; k4*S3;\n",
        "\n",
        "    k1 = 0.1; k2 = 0.5; k3 = 0.5; k4 = 0.5;\n",
        "    S1 = 100;\n",
        "''')\n",
        "\n",
        "# use a stochastic solver\n",
        "r.integrator = 'gillespie'\n",
        "r.integrator.seed = 1234\n",
        "# selections specifies the output variables in a simulation\n",
        "selections = ['time'] + r.getBoundarySpeciesIds() + r.getFloatingSpeciesIds()\n",
        "r.integrator.variable_step_size = False\n",
        "\n",
        "# run repeated simulation\n",
        "Ncol = len(r.selections)\n",
        "Nsim = 30\n",
        "points = 101\n",
        "s_sum = np.zeros(shape=[points, Ncol])\n",
        "#s_sum = r.simulate(0, 50, points, selections=selections)\n",
        "for k in range(Nsim):\n",
        "    r.resetToOrigin()\n",
        "    s = r.simulate(0, 50, points, selections=selections)\n",
        "    s_sum += s\n",
        "    # no legend, do not show\n",
        "    r.plot(s, alpha=0.5, show=False)\n",
        "#r.show()\n",
        "# add mean curve, legend, show everything and set labels, titels, ...\n",
        "te.plot(s[:,0], s_sum[:,1:]/Nsim, colnames=selections, title=\"Stochastic simulation\", xtitle=\"time\", ytitle=\"concentration\")"
      ],
      "outputs": [],
      "execution_count": 3,
      "metadata": {
        "collapsed": false
      }
    }
  ],
  "metadata": {
    "kernelspec": {
      "name": "python3",
      "language": "python",
      "display_name": "Python 3"
    },
    "language_info": {
      "name": "python",
      "version": "3.6.1",
      "mimetype": "text/x-python",
      "codemirror_mode": {
        "name": "ipython",
        "version": 3
      },
      "pygments_lexer": "ipython3",
      "nbconvert_exporter": "python",
      "file_extension": ".py"
    },
    "kernel_info": {
      "name": "python3"
    }
  },
  "nbformat": 4,
  "nbformat_minor": 0
}