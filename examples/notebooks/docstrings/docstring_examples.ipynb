{
 "cells": [
  {
   "cell_type": "code",
   "execution_count": null,
   "metadata": {},
   "outputs": [],
   "source": [
    "%matplotlib inline\n",
    "import tellurium as te"
   ]
  },
  {
   "cell_type": "code",
   "execution_count": null,
   "metadata": {},
   "outputs": [],
   "source": [
    "# tellurium.loada\n",
    "r = te.loada('S1 -> S2; k1*S1; k1 = 0.1; S2 = 10')"
   ]
  },
  {
   "cell_type": "code",
   "execution_count": null,
   "metadata": {},
   "outputs": [],
   "source": [
    "# tellurium.plotArray\n",
    "import numpy as np\n",
    "result = np.array([[1,2,3], [7.2,6.5,8.8], [9.8, 6.5, 4.3]])\n",
    "te.plotArray(result)"
   ]
  },
  {
   "cell_type": "code",
   "execution_count": null,
   "metadata": {},
   "outputs": [],
   "source": [
    "# tellurium.loadTestModel\n",
    "rr = te.loadTestModel('feedback.xml')"
   ]
  },
  {
   "cell_type": "code",
   "execution_count": null,
   "metadata": {},
   "outputs": [],
   "source": [
    "# tellurium.getTestModel\n",
    "# load test model as SBML\n",
    "sbml = te.getTestModel('feedback.xml')\n",
    "r = te.loadSBMLModel(sbml)\n",
    "# simulate\n",
    "r.simulate(0, 100, 20)"
   ]
  },
  {
   "cell_type": "code",
   "execution_count": null,
   "metadata": {},
   "outputs": [],
   "source": [
    "# tellurium.listTestModels\n",
    "print(te.listTestModels())"
   ]
  },
  {
   "cell_type": "code",
   "execution_count": null,
   "metadata": {},
   "outputs": [],
   "source": [
    "# tellurium.plot\n",
    "sbml = te.getTestModel('feedback.xml')\n",
    "r = te.loadSBMLModel(sbml)\n",
    "s = r.simulate(0, 100, 201)\n",
    "r.plot(s, loc=\"upper right\", linewidth=2.0, lineStyle='-', marker='o', markersize=2.0, alpha=0.8, \n",
    "       title=\"Feedback Oscillation\", xlabel=\"time\", ylabel=\"concentration\", xlim=[0,100], ylim=[-1, 4])"
   ]
  },
  {
   "cell_type": "code",
   "execution_count": null,
   "metadata": {},
   "outputs": [],
   "source": [
    "# tellurium.gillespie\n",
    "rr = te.loada ('S1 -> S2; k1*S1; k1 = 0.1; S1 = 40')\n",
    "# Simulate from time zero to 40 time units\n",
    "result = rr.gillespie (0, 40)\n",
    "# Simulate on a grid with 10 points from start 0 to end time 40\n",
    "rr.reset()\n",
    "result = rr.gillespie (0, 40, 10)\n",
    "# Simulate from time zero to 40 time units using the given selection list\n",
    "# This means that the first column will be time and the second column species S1\n",
    "rr.reset()\n",
    "result = rr.gillespie (0, 40, selections=['time', 'S1'])\n",
    "# Simulate from time zero to 40 time units, on a grid with 20 points\n",
    "# using the give selection list\n",
    "rr.reset()\n",
    "result = rr.gillespie (0, 40, 20, ['time', 'S1'])\n",
    "rr.plot(result)"
   ]
  },
  {
   "cell_type": "code",
   "execution_count": null,
   "metadata": {},
   "outputs": [],
   "source": [
    "# tellurium.widgets.species_search\n",
    "import bioservices\n",
    "s = bioservices.BioModels()\n",
    "ch = bioservices.ChEBI()\n",
    "results = ch.getLiteEntity(\"D-glucose 6-sulfate\")[0:5]\n",
    "print(results)\n",
    "print(type(results[0]))\n",
    "print(results[0].chebiId)"
   ]
  },
  {
   "cell_type": "code",
   "execution_count": 2,
   "metadata": {},
   "outputs": [
    {
     "data": {
      "image/png": "[encoded data removed]"
     },
     "output_type": "display_data",
     "metadata": {}
    }
   ],
   "source": [
    "# tellurium.widgets.parameter_slider\n",
    "%matplotlib inline\n",
    "import tellurium as te\n",
    "from tellurium.widgets import ParameterSlider\n",
    "\n",
    "model = '''\n",
    "      model pathway()\n",
    "        S1 -> S2; k1*S1 - k2*S2 # Reversible term added here\n",
    "\n",
    "        # Initialize values\n",
    "        S1 = 5; S2 = 0;\n",
    "        k1 = 0.1;  k2 = 0.05;\n",
    "\n",
    "      end\n",
    "'''\n",
    "r = te.loadAntimonyModel(model)\n",
    "ParameterSlider(r)"
   ]
  },
  {
   "cell_type": "code",
   "execution_count": null,
   "metadata": {},
   "outputs": [],
   "source": [
    "# tellurium.tests.te_passes_tests\n",
    "import tellurium.tests.test_runner as tetest\n",
    "runner = tetest.TestRunner()\n",
    "runner.te_passes_tests()"
   ]
  },
  {
   "cell_type": "code",
   "execution_count": null,
   "metadata": {},
   "outputs": [],
   "source": [
    ""
   ]
  }
 ],
 "metadata": {
  "kernelspec": {
   "display_name": "Python 2",
   "language": "python",
   "name": "python2"
  },
  "language_info": {
   "codemirror_mode": {
    "name": "ipython",
    "version": 2.0
   },
   "file_extension": ".py",
   "mimetype": "text/x-python",
   "name": "python",
   "nbconvert_exporter": "python",
   "pygments_lexer": "ipython2",
   "version": "2.7.6"
  }
 },
 "nbformat": 4,
 "nbformat_minor": 0
}