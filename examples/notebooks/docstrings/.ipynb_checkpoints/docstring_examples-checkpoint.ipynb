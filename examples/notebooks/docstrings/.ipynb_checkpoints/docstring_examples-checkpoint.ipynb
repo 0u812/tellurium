{
 "cells": [
  {
   "cell_type": "code",
   "execution_count": null,
   "metadata": {
    "collapsed": true
   },
   "outputs": [],
   "source": [
    "%matplotlib inline\n",
    "import tellurium as te"
   ]
  },
  {
   "cell_type": "code",
   "execution_count": null,
   "metadata": {
    "collapsed": true
   },
   "outputs": [],
   "source": [
    "# tellurium.loada\n",
    "r = te.loada('S1 -> S2; k1*S1; k1 = 0.1; S2 = 10')"
   ]
  },
  {
   "cell_type": "code",
   "execution_count": null,
   "metadata": {
    "collapsed": false
   },
   "outputs": [],
   "source": [
    "# tellurium.plotArray\n",
    "import numpy as np\n",
    "result = np.array([[1,2,3], [7.2,6.5,8.8], [9.8, 6.5, 4.3]])\n",
    "te.plotArray(result)"
   ]
  },
  {
   "cell_type": "code",
   "execution_count": null,
   "metadata": {
    "collapsed": false
   },
   "outputs": [],
   "source": [
    "# tellurium.loadTestModel\n",
    "rr = te.loadTestModel('feedback.xml')"
   ]
  },
  {
   "cell_type": "code",
   "execution_count": null,
   "metadata": {
    "collapsed": false
   },
   "outputs": [],
   "source": [
    "# tellurium.getTestModel\n",
    "# load test model as SBML\n",
    "sbml = te.getTestModel('feedback.xml')\n",
    "r = te.loadSBMLModel(sbml)\n",
    "# simulate\n",
    "r.simulate(0, 100, 20)"
   ]
  },
  {
   "cell_type": "code",
   "execution_count": null,
   "metadata": {
    "collapsed": false
   },
   "outputs": [],
   "source": [
    "# tellurium.listTestModels\n",
    "print(te.listTestModels())"
   ]
  },
  {
   "cell_type": "code",
   "execution_count": null,
   "metadata": {
    "collapsed": false
   },
   "outputs": [],
   "source": [
    "# tellurium.plot\n",
    "sbml = te.getTestModel('feedback.xml')\n",
    "r = te.loadSBMLModel(sbml)\n",
    "s = r.simulate(0, 100, 201)\n",
    "r.plot(s, loc=\"upper right\", linewidth=2.0, lineStyle='-', marker='o', markersize=2.0, alpha=0.8, \n",
    "       title=\"Feedback Oscillation\", xlabel=\"time\", ylabel=\"concentration\", xlim=[0,100], ylim=[-1, 4])"
   ]
  },
  {
   "cell_type": "code",
   "execution_count": null,
   "metadata": {
    "collapsed": false
   },
   "outputs": [],
   "source": [
    "# tellurium.gillespie\n",
    "rr = te.loada ('S1 -> S2; k1*S1; k1 = 0.1; S1 = 40')\n",
    "# Simulate from time zero to 40 time units\n",
    "result = rr.gillespie (0, 40)\n",
    "# Simulate on a grid with 10 points from start 0 to end time 40\n",
    "rr.reset()\n",
    "result = rr.gillespie (0, 40, 10)\n",
    "# Simulate from time zero to 40 time units using the given selection list\n",
    "# This means that the first column will be time and the second column species S1\n",
    "rr.reset()\n",
    "result = rr.gillespie (0, 40, selections=['time', 'S1'])\n",
    "# Simulate from time zero to 40 time units, on a grid with 20 points\n",
    "# using the give selection list\n",
    "rr.reset()\n",
    "result = rr.gillespie (0, 40, 20, ['time', 'S1'])\n",
    "rr.plot(result)"
   ]
  },
  {
   "cell_type": "code",
   "execution_count": 2,
   "metadata": {
    "collapsed": false
   },
   "outputs": [
    {
     "name": "stderr",
     "output_type": "stream",
     "text": [
      "INFO:root:Initialising BioModels service (WSDL)\n"
     ]
    },
    {
     "name": "stdout",
     "output_type": "stream",
     "text": [
      "[(LiteEntity){\n",
      "   chebiId = \"CHEBI:57904\"\n",
      "   chebiAsciiName = \"D-glucose 6-sulfate(1-)\"\n",
      "   searchScore = 0.98\n",
      "   entityStar = 3\n",
      " }, (LiteEntity){\n",
      "   chebiId = \"CHEBI:16809\"\n",
      "   chebiAsciiName = \"D-glucose 6-sulfate\"\n",
      "   searchScore = 0.77\n",
      "   entityStar = 3\n",
      " }, (LiteEntity){\n",
      "   chebiId = \"CHEBI:42758\"\n",
      "   chebiAsciiName = \"aldehydo-D-glucose\"\n",
      "   searchScore = 0.33\n",
      "   entityStar = 3\n",
      " }, (LiteEntity){\n",
      "   chebiId = \"CHEBI:20741\"\n",
      "   chebiAsciiName = \"6-O-methyl-D-glucose\"\n",
      "   searchScore = 0.3\n",
      "   entityStar = 3\n",
      " }, (LiteEntity){\n",
      "   chebiId = \"CHEBI:57584\"\n",
      "   chebiAsciiName = \"aldehydo-D-glucose 6-phosphate(2-)\"\n",
      "   searchScore = 0.29\n",
      "   entityStar = 3\n",
      " }]\n",
      "<class 'suds.sudsobject.LiteEntity'>\n",
      "CHEBI:57904\n"
     ]
    }
   ],
   "source": [
    "# tellurium.widgets.species_search\n",
    "import bioservices\n",
    "s = bioservices.BioModels()\n",
    "ch = bioservices.ChEBI()\n",
    "results = ch.getLiteEntity(\"D-glucose 6-sulfate\")[0:5]\n",
    "print(results)\n",
    "print(type(results[0]))\n",
    "print(results[0].chebiId)"
   ]
  },
  {
   "cell_type": "code",
   "execution_count": 4,
   "metadata": {
    "collapsed": false
   },
   "outputs": [
    {
     "data": {
      "text/plain": [
       "    time,    [S1],    [S2]\n",
       " [[    0,       5,       0],\n",
       "  [   10, 2.41041, 2.58959],\n",
       "  [   20, 1.83259, 3.16741],\n",
       "  [   30, 1.70374, 3.29626],\n",
       "  [   40, 1.67497, 3.32503],\n",
       "  [   50, 1.66853, 3.33147],\n",
       "  [   60, 1.66708, 3.33292],\n",
       "  [   70, 1.66676, 3.33324],\n",
       "  [   80, 1.66669, 3.33331],\n",
       "  [   90, 1.66669, 3.33331],\n",
       "  [  100, 1.66669, 3.33331]]"
      ]
     },
     "execution_count": 4,
     "metadata": {},
     "output_type": "execute_result"
    }
   ],
   "source": [
    "# tellurium.widgets.parameter_slider\n",
    "%matplotlib inline\n",
    "import tellurium as te\n",
    "from tellurium.widgets import ParameterSlider\n",
    "\n",
    "model = '''\n",
    "      model pathway()\n",
    "        S1 -> S2; k1*S1 - k2*S2 # Reversible term added here\n",
    "\n",
    "        # Initialize values\n",
    "        S1 = 5; S2 = 0;\n",
    "        k1 = 0.1;  k2 = 0.05;\n",
    "\n",
    "      end\n",
    "'''\n",
    "r = te.loadAntimonyModel(model)\n",
    "# r.simulate(start=0, end=100, steps=10)\n",
    "ParameterSlider(r, paramIds=['k1'])"
   ]
  },
  {
   "cell_type": "code",
   "execution_count": null,
   "metadata": {
    "collapsed": false
   },
   "outputs": [],
   "source": [
    "# tellurium.tests.te_passes_tests\n",
    "import tellurium.tests.test_runner as tetest\n",
    "runner = tetest.TestRunner()\n",
    "runner.te_passes_tests()"
   ]
  },
  {
   "cell_type": "code",
   "execution_count": null,
   "metadata": {
    "collapsed": true
   },
   "outputs": [],
   "source": []
  }
 ],
 "metadata": {
  "kernelspec": {
   "display_name": "Python 2",
   "language": "python",
   "name": "python2"
  },
  "language_info": {
   "codemirror_mode": {
    "name": "ipython",
    "version": 2
   },
   "file_extension": ".py",
   "mimetype": "text/x-python",
   "name": "python",
   "nbconvert_exporter": "python",
   "pygments_lexer": "ipython2",
   "version": "2.7.6"
  }
 },
 "nbformat": 4,
 "nbformat_minor": 0
}
